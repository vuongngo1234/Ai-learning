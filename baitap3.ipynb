{
  "nbformat": 4,
  "nbformat_minor": 0,
  "metadata": {
    "colab": {
      "provenance": [],
      "authorship_tag": "ABX9TyNyW1SiYwxQMYOTdfeY9rQn",
      "include_colab_link": true
    },
    "kernelspec": {
      "name": "python3",
      "display_name": "Python 3"
    },
    "language_info": {
      "name": "python"
    }
  },
  "cells": [
    {
      "cell_type": "markdown",
      "metadata": {
        "id": "view-in-github",
        "colab_type": "text"
      },
      "source": [
        "<a href=\"https://colab.research.google.com/github/vuongngo1234/Ai-learning/blob/main/baitap3.ipynb\" target=\"_parent\"><img src=\"https://colab.research.google.com/assets/colab-badge.svg\" alt=\"Open In Colab\"/></a>"
      ]
    },
    {
      "cell_type": "code",
      "execution_count": 2,
      "metadata": {
        "id": "ReF3vYNah2Q_",
        "colab": {
          "base_uri": "https://localhost:8080/"
        },
        "outputId": "6fb4fbce-58d4-410a-ad79-57af0d2e3c2c"
      },
      "outputs": [
        {
          "output_type": "stream",
          "name": "stdout",
          "text": [
            "x=1\n",
            "y=1\n",
            "outside\n"
          ]
        }
      ],
      "source": [
        "x=eval(input('x='))\n",
        "y=eval(input('y='))\n",
        "c=x+y\n",
        "if c==1:\n",
        "    if((0<x<1) and (0<y<1)):\n",
        "        print(\"border\")\n",
        "    else:print(\"outside\")    \n",
        "elif (x==0 and 0<=y<=1) or (0<=x<=1 and y==0):print(\"border\")    \n",
        "elif (0<x<1) and (0<y<1):\n",
        "    if c<1 :\n",
        "        print(\"inside\")\n",
        "    else:print(\"outside\")\n",
        "else:print(\"outside\")        "
      ]
    }
  ]
}